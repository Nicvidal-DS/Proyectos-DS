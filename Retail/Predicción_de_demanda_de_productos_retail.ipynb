{
  "nbformat": 4,
  "nbformat_minor": 0,
  "metadata": {
    "colab": {
      "provenance": []
    },
    "kernelspec": {
      "name": "python3",
      "display_name": "Python 3"
    },
    "language_info": {
      "name": "python"
    }
  },
  "cells": [
    {
      "cell_type": "code",
      "execution_count": null,
      "metadata": {
        "id": "KVgNQnR00a6h"
      },
      "outputs": [],
      "source": []
    },
    {
      "cell_type": "markdown",
      "source": [
        "# 📓 Predicción de demanda de productos retail\n",
        "**Autor:** Nicolás Andrés Vidal Mancilla\n",
        "\n",
        "**Rol:** Ingeniero Civil Industrial, MSc Data Science\n",
        "\n",
        "**Proyecto:** Predicción de demanda de productos retail\n",
        "\n",
        "**Fecha:** 22-08-2025\n",
        "\n",
        "**Descripcion:** El objetivo de este notebook es crear un modelo para predecir la demanda semanal de productos del area del retail. Se utilizan datos históricos de ventas, estacionalidad y variables como promociones, precios y posicionamiento en la tienda de un producto. Esto ayudaria a una empresa a reducir quiebres de stock y sobreinventario, apoyando la toma de decisiones en la gestion de inventario y reposición.\n"
      ],
      "metadata": {
        "id": "9RDXhgOt39aX"
      }
    },
    {
      "cell_type": "code",
      "source": [],
      "metadata": {
        "id": "-yz9_DPl8g4Q"
      },
      "execution_count": null,
      "outputs": []
    },
    {
      "cell_type": "markdown",
      "source": [
        "## 2. Contexto y Definicion del Problema\n",
        "- Problematica\n",
        "  En el sector retail, especialmente en supermercados y minimarkets se presentan dos problemas importantes relacionados a la gestion de inventario:\n",
        "  1. **Quiebres de stock**: Cuando la demanda del producto supera la cantidad del inventario. Esto puede generar perdida de ventas, disminuir la satisfaccion al cliente y puede afectar la fidelidad de la marca.\n",
        "  2. **Exceso de inventario**: Tener mas stock del necesario incrementa los costos de almacenamiento, riesgos de obsolecencia y capital inmovilizado innecesario.\n",
        "\n",
        "  Estos problemas son comunes en empresas de gran tamaño y con gran cantidad de productos, donde la demanda influenciada por variables como estacion del año, precios, promociones y competencia.\n",
        "\n",
        "  **Ejemplos en la industria**:\n",
        "\n",
        "  *   **Supermercados:** Productos con gran rotacion como bebidas o snacks pueden verse influenciados por altas temperaturas o fiestas.\n",
        "  *   **Distribucion y logistica:** Transportar productos que luego no se venden trae consigo costes extra de almacenamiento y transporte.\n",
        "  *   **Manufactura:** Predecir la demanda de un producto, ayuda luego a planificar la producción y evitar producir demas de un producto de rapida obsolecencia.\n",
        "\n",
        "- **Objetivo principal**\n",
        "\n",
        "  El objetivo de este proyecto es **construir un modelo de prediccion de demanda semanal por producto y por tienda**, utilizando los datos historicos de ventas y variables externas como promociones, precios, temperatura y competencia. Esto con la finalidad de:\n",
        "\n",
        "  * Reducir quiebres de stock.\n",
        "  * Minimizar exceso de inventario.\n",
        "  * Mejorar la precision de la prediccion del modelo\n",
        "\n",
        "  Lo anterior para asegurar la disponibilidad de productos en la tienda, minimizar costos de almacenamiento y capital inmovilizado, y ayudar en las desiciones de reposicion y planificacion estrategica de la empresa.\n",
        "\n",
        "- **Preguntas clave a responder**\n",
        "\n",
        "  1. ¿Cual sera la demanda de cada semana por producto por cada tienda en el futuro?\n",
        "\n",
        "  2. ¿Que efectos tienen las distintas variables, como promociones o estacionalidades en la demanda?\n",
        "  \n",
        "  3. ¿Hay patrones estaciones o tendencias que deban tenerse en cuenta enla planificación de inventario?\n",
        "\n",
        "  4. ¿Como se puede optimizar la gestion de inventario usando modelos de **Data Science** para reducir costos y mejorar la satisfaccion al cliente?\n",
        "  \n",
        "   "
      ],
      "metadata": {
        "id": "iDtpN0ia9p04"
      }
    },
    {
      "cell_type": "markdown",
      "source": [
        "## 3. Datos\n",
        "\n",
        "- **Fuente de los Datos**\n",
        "\n",
        "Los datos utilizados en este proyecto son de origen sinteticos y ficticios. fueron creados simulando el comportamiento real de las ventas en un entorno retail/supermercado (con variables que se sabe que influencian en las ventas).\n",
        "\n",
        "Se construyeron con patrones de tendencia, estacionalidad, promociones, elasticidad de precio y efectos externos como temperatura y competencia. Asi, se simulan de forma realista los desafios de gestion de inventario.\n",
        "\n",
        "- **Descripción de variables**\n",
        "\n",
        "  * **date**: semana(formato año-mes-dia)\n",
        "  * **store_id**: Identificador de la tienda (ej.: VAP_01,SCL_02)\n",
        "  * **sku_id**: Identificador del producto (ej.: BE_01, BE_02)\n",
        "  * **category**: Categoria del producto (ej.:Bebidas)\n",
        "  * **price**: Precio del producto (ej.:$1.990)\n",
        "\n",
        "  * **promo_flag**: Si el producto esta o no en promoción, en binario (ej.:0,1)\n",
        "  * **display_flag**: Si el producto esta en exhibición destacada, binario. (ej.:0,1)\n",
        "  * **comp_price_index**: precio del producto en la competencia. (ej.: $2.190)\n",
        "  * **temp**: Temperatura del dia en grados Celcius (ej.: 22)\n",
        "  * **units_sold**: Cantidad de unidades vendidas en la semana (ej.: 87)\n",
        "\n",
        "- **Calidad Esperada y Limitaciones**\n",
        "  * La calidad de los datos simulados es alta ya que no hay errores de captura o datos faltantes, ademas las variables fueron creadas con patrones controlados.\n",
        "  * Por otro lado, como los datos son simulados, no tienen la complejidad que se encontraria en un entorno real (donde pueden verse afectados por cambios macroeconomicos, quiebres en la cadena de suministro o cambios imprevistos en la competencia, etc.).\n",
        "  * En un caso real se esperarian problemas en los datos con valores nulos, atipicos, datos duplicados o no estructurasos, que en los datos simulados no estan presentes.\n"
      ],
      "metadata": {
        "id": "WFS7NcpPOG0D"
      }
    }
  ]
}